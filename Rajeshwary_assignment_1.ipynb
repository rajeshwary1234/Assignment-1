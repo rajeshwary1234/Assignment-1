{
  "nbformat": 4,
  "nbformat_minor": 0,
  "metadata": {
    "colab": {
      "provenance": []
    },
    "kernelspec": {
      "name": "python3",
      "display_name": "Python 3"
    },
    "language_info": {
      "name": "python"
    }
  },
  "cells": [
    {
      "cell_type": "markdown",
      "source": [
        "#Python Basics Questions"
      ],
      "metadata": {
        "id": "whTeoXDq7tW2"
      }
    },
    {
      "cell_type": "markdown",
      "source": [
        "1. What is Python, and why is it popular?\n",
        "  - Python is a high-level, easy-to-read programming language known for its simplicity and versatility. It’s used in web development, data analysis, automation, machine learning, and more. Python is popular because it’s beginner-friendly, has a large supportive community, a vast library ecosystem, and is highly adaptable across different industries and platforms.\n",
        "\n",
        "2. What is an interpreter in Python?\n",
        " - An interpreter in Python is a program that reads and runs your Python code line by line, translating it into something the computer can understand and execute immediately, without needing to compile it first.\n",
        "\n",
        "3. What are pre-defined keywords in Python?\n",
        "  - Pre-defined keywords in Python are reserved words that have special meanings and cannot be used as variable names. These keywords are part of the Python syntax and define the structure of the language. Examples include if, else, for, while, def, class, and return.\n",
        "\n",
        "4. Can keywords be used as variable names?\n",
        "  - No, keywords in Python cannot be used as variable names. They are reserved by the language for specific purposes, like defining control flow or functions. Using a keyword as a variable name will result in a syntax error.\n",
        "\n",
        "5. What is mutability in Python?\n",
        "\n",
        "  - Mutability in Python refers to whether you can change an object after it's created.\n",
        "\n",
        "Mutable objects can be changed (like lists or dictionaries).\n",
        "\n",
        "Immutable objects cannot be changed (like strings or tuples).\n",
        "\n",
        "6. Why are lists mutable, but tuples are immutable?\n",
        "  - Lists are mutable because they are designed to allow changes, like adding, removing, or modifying elements. This flexibility makes them useful when you need to modify data over time.\n",
        "Tuples are immutable to provide safety and consistency. Once a tuple is created, its contents cannot be changed, which is useful when you need a fixed collection of items that should not be altered.\n",
        "\n",
        "7. What is the difference between “==” and “is” operators in Python?\n",
        "\n",
        "  - In Python:\n",
        "\n",
        "== checks if the values of two objects are the same.\n",
        "\n",
        "is checks if two objects are the same object in memory (i.e., if they refer to the same place in memory).\n",
        "\n",
        "8. What are logical operators in Python?\n",
        "\n",
        "  - Logical operators in Python are used to combine conditional expressions. The three main logical operators are:\n",
        "\n",
        "Returns True if both conditions are true.\n",
        "\n",
        "Returns True if at least one condition is true.\n",
        "\n",
        "Reverses the truth value of a condition.\n",
        "\n",
        "9. What is type casting in Python?\n",
        "  - Type casting in Python is the process of converting one data type into another. It allows you to change the type of a variable or value, such as converting an integer to a string or a string to a float. There are two types of type casting:\n",
        "Implicit casting: Automatically done by Python when it safely converts one type to another.\n",
        "\n",
        "Explicit casting: Done manually by the programmer using functions to convert types.\n",
        "\n",
        "10. What is the difference between implicit and explicit type casting?\n",
        "\n",
        "  - The difference between implicit and explicit type casting is: Implicit type casting: Also known as automatic type conversion, it is done automatically by Python when it safely converts a smaller data type to a larger one, without the programmer's intervention.\n",
        "Explicit type casting: Also known as manual type conversion, it requires the programmer to use specific functions to convert one data type to another.\n",
        "\n",
        "11. What is the purpose of conditional statements in Python?\n",
        "  - The purpose of conditional statements in Python is to allow the program to make decisions based on certain conditions. They enable the code to execute different actions depending on whether a condition is true or false, helping control the flow of execution.\n",
        "\n",
        "12. 8 How does the elif statement work?\n",
        "  - The elif statement in Python stands for \"else if\" and allows you to check multiple conditions in sequence. It follows an if statement and is used to check another condition if the previous if or elif conditions were false. It ensures that only one of the conditions in the chain is executed. If none of the conditions are true, the else block (if provided) is executed.\n",
        "\n",
        "13. What is the difference between for and while loops?\n",
        "  - For loop is used to iterate over a sequence of items. While loop is used to repeatedly execute a block of statements while a condition is true. For loops are designed for iterating over a sequence of items.\n",
        "\n",
        "14. Describe a scenario where a while loop is more suitable than a for loop\n",
        "  - Prefer a while loop when the condition has nothing to do with a collection/array and does not require a set number of iterations. Prefer a foreach or a for loop whenever the loop is related to a collection or array.\n",
        "\n",
        "\n",
        "\n"
      ],
      "metadata": {
        "id": "TbVvwWh9_--o"
      }
    },
    {
      "cell_type": "markdown",
      "source": [
        "#Practical Questions & Answers :"
      ],
      "metadata": {
        "id": "vJJx9rY5Bfw3"
      }
    },
    {
      "cell_type": "code",
      "execution_count": 2,
      "metadata": {
        "id": "vDF-Il5-7rHW",
        "colab": {
          "base_uri": "https://localhost:8080/"
        },
        "outputId": "6c009782-9d89-413c-8630-37efe0da3be7"
      },
      "outputs": [
        {
          "output_type": "stream",
          "name": "stdout",
          "text": [
            "Hello, World!\n"
          ]
        }
      ],
      "source": [
        "#1.Write a Python program to print \"Hello, World!\"\n",
        "\n",
        "print(\"Hello, World!\")"
      ]
    },
    {
      "cell_type": "code",
      "source": [
        "#2.Write a Python program that displays your name and age.\n",
        "\n",
        "name = \"Rajeshwary\"\n",
        "age = 25\n",
        "\n",
        "print(\"Name:\", name)\n",
        "print(\"Age:\", age)"
      ],
      "metadata": {
        "colab": {
          "base_uri": "https://localhost:8080/"
        },
        "id": "Hi-zF0wGB-d4",
        "outputId": "f00777df-9ff4-411f-f50d-14d882559ad2"
      },
      "execution_count": 3,
      "outputs": [
        {
          "output_type": "stream",
          "name": "stdout",
          "text": [
            "Name: Rajeshwary\n",
            "Age: 25\n"
          ]
        }
      ]
    },
    {
      "cell_type": "code",
      "source": [
        "#3.Write code to print all the pre-defined keywords in Python using the keyword library\n",
        "\n",
        "import keyword\n",
        "\n",
        "# Get the list of all Python keywords\n",
        "keywords_list = keyword.kwlist\n",
        "\n",
        "# Print the keywords\n",
        "print(\"Python Keywords:\")\n",
        "for kw in keywords_list:\n",
        "    print(kw)"
      ],
      "metadata": {
        "colab": {
          "base_uri": "https://localhost:8080/"
        },
        "id": "bBYzo7s2CASP",
        "outputId": "0311f942-efb0-4de9-bc17-53431da54c3c"
      },
      "execution_count": 4,
      "outputs": [
        {
          "output_type": "stream",
          "name": "stdout",
          "text": [
            "Python Keywords:\n",
            "False\n",
            "None\n",
            "True\n",
            "and\n",
            "as\n",
            "assert\n",
            "async\n",
            "await\n",
            "break\n",
            "class\n",
            "continue\n",
            "def\n",
            "del\n",
            "elif\n",
            "else\n",
            "except\n",
            "finally\n",
            "for\n",
            "from\n",
            "global\n",
            "if\n",
            "import\n",
            "in\n",
            "is\n",
            "lambda\n",
            "nonlocal\n",
            "not\n",
            "or\n",
            "pass\n",
            "raise\n",
            "return\n",
            "try\n",
            "while\n",
            "with\n",
            "yield\n"
          ]
        }
      ]
    },
    {
      "cell_type": "code",
      "source": [
        "#4.Write a program that checks if a given word is a Python keyword.\n",
        "\n",
        "import keyword\n",
        "\n",
        "# Function to check if a word is a Python keyword\n",
        "def check_keyword(word):\n",
        "    if keyword.iskeyword(word):\n",
        "        print(f\"'{word}' is a Python keyword.\")\n",
        "    else:\n",
        "        print(f\"'{word}' is not a Python keyword.\")\n",
        "\n",
        "# Get input from the user\n",
        "word = input(\"Enter a word to check if it's a Python keyword: \")\n",
        "\n",
        "# Check if the input word is a Python keyword\n",
        "check_keyword(word)"
      ],
      "metadata": {
        "colab": {
          "base_uri": "https://localhost:8080/"
        },
        "id": "fNPrgUjZCAXw",
        "outputId": "3920ad88-6472-4b43-adc8-dbebbe83e6ee"
      },
      "execution_count": 5,
      "outputs": [
        {
          "output_type": "stream",
          "name": "stdout",
          "text": [
            "Enter a word to check if it's a Python keyword: 12\n",
            "'12' is not a Python keyword.\n"
          ]
        }
      ]
    },
    {
      "cell_type": "code",
      "source": [
        "#5.  Create a list and tuple in Python, and demonstrate how attempting to change an element works differently for each.\n",
        "\n",
        "\n",
        "# Creating a list\n",
        "my_list = [1, 2, 3, 4, 5]\n",
        "\n",
        "# Creating a tuple\n",
        "my_tuple = (1, 2, 3, 4, 5)\n",
        "\n",
        "# Attempting to change an element in the list\n",
        "print(\"Original list:\", my_list)\n",
        "my_list[2] = 99  # Changing the third element of the list\n",
        "print(\"Modified list:\", my_list)\n",
        "\n",
        "# Attempting to change an element in the tuple\n",
        "print(\"\\nOriginal tuple:\", my_tuple)\n",
        "try:\n",
        "    my_tuple[2] = 99  # Trying to change the third element of the tuple\n",
        "except TypeError as e:\n",
        "    print(\"Error while modifying tuple:\", e)"
      ],
      "metadata": {
        "colab": {
          "base_uri": "https://localhost:8080/"
        },
        "id": "bTqLsYkPCAfZ",
        "outputId": "14ac6458-29c7-44ab-b661-49d3c619b02a"
      },
      "execution_count": 6,
      "outputs": [
        {
          "output_type": "stream",
          "name": "stdout",
          "text": [
            "Original list: [1, 2, 3, 4, 5]\n",
            "Modified list: [1, 2, 99, 4, 5]\n",
            "\n",
            "Original tuple: (1, 2, 3, 4, 5)\n",
            "Error while modifying tuple: 'tuple' object does not support item assignment\n"
          ]
        }
      ]
    },
    {
      "cell_type": "code",
      "source": [
        "#6. Write a function to demonstrate the behavior of mutable and immutable arguments.\n",
        "\n",
        "def modify_arguments(immutable_arg, mutable_arg):\n",
        "    # Trying to modify the immutable argument (integer in this case)\n",
        "    print(\"Before modifying immutable_arg:\", immutable_arg)\n",
        "    immutable_arg += 10  # This creates a new object\n",
        "    print(\"After modifying immutable_arg:\", immutable_arg)\n",
        "\n",
        "    # Trying to modify the mutable argument (list in this case)\n",
        "    print(\"\\nBefore modifying mutable_arg:\", mutable_arg)\n",
        "    mutable_arg.append(10)  # This modifies the original list\n",
        "    print(\"After modifying mutable_arg:\", mutable_arg)\n",
        "\n",
        "# Immutable argument (integer)\n",
        "num = 5\n",
        "\n",
        "# Mutable argument (list)\n",
        "my_list = [1, 2, 3]\n",
        "\n",
        "# Call the function with both arguments\n",
        "modify_arguments(num, my_list)\n",
        "\n",
        "# Checking values outside the function\n",
        "print(\"\\nOutside function:\")\n",
        "print(\"num:\", num)  # Should be unchanged\n",
        "print(\"my_list:\", my_list)  # Should be modified"
      ],
      "metadata": {
        "colab": {
          "base_uri": "https://localhost:8080/"
        },
        "id": "i3lUBVszCAmf",
        "outputId": "aba90f56-6b60-4e3c-fd6d-1962e955a375"
      },
      "execution_count": 7,
      "outputs": [
        {
          "output_type": "stream",
          "name": "stdout",
          "text": [
            "Before modifying immutable_arg: 5\n",
            "After modifying immutable_arg: 15\n",
            "\n",
            "Before modifying mutable_arg: [1, 2, 3]\n",
            "After modifying mutable_arg: [1, 2, 3, 10]\n",
            "\n",
            "Outside function:\n",
            "num: 5\n",
            "my_list: [1, 2, 3, 10]\n"
          ]
        }
      ]
    },
    {
      "cell_type": "code",
      "source": [
        "#7.Write a program that performs basic arithmetic operations on two user-input numbers.\n",
        "\n",
        " #Function to perform arithmetic operations\n",
        "def arithmetic_operations(num1, num2):\n",
        "    print(f\"Addition: {num1} + {num2} = {num1 + num2}\")\n",
        "    print(f\"Subtraction: {num1} - {num2} = {num1 - num2}\")\n",
        "    print(f\"Multiplication: {num1} * {num2} = {num1 * num2}\")\n",
        "\n",
        "    # Handle division by zero\n",
        "    if num2 != 0:\n",
        "        print(f\"Division: {num1} / {num2} = {num1 / num2}\")\n",
        "    else:\n",
        "        print(\"Division: Cannot divide by zero\")\n",
        "\n",
        "# Input: Getting two numbers from the user\n",
        "try:\n",
        "    num1 = float(input(\"Enter the first number: \"))\n",
        "    num2 = float(input(\"Enter the second number: \"))\n",
        "\n",
        "    # Call the function with the user inputs\n",
        "    arithmetic_operations(num1, num2)\n",
        "except ValueError:\n",
        "    print(\"Invalid input! Please enter numeric values.\")"
      ],
      "metadata": {
        "colab": {
          "base_uri": "https://localhost:8080/"
        },
        "id": "yfyIRJeFCAr6",
        "outputId": "291401ea-0ea1-401a-c8bf-2bbda873165d"
      },
      "execution_count": 9,
      "outputs": [
        {
          "output_type": "stream",
          "name": "stdout",
          "text": [
            "Enter the first number: 5\n",
            "Enter the second number: 12\n",
            "Addition: 5.0 + 12.0 = 17.0\n",
            "Subtraction: 5.0 - 12.0 = -7.0\n",
            "Multiplication: 5.0 * 12.0 = 60.0\n",
            "Division: 5.0 / 12.0 = 0.4166666666666667\n"
          ]
        }
      ]
    },
    {
      "cell_type": "code",
      "source": [
        "#8. Write a program to demonstrate the use of logical operators.\n",
        "\n",
        "# Get input from the user\n",
        "a = int(input(\"Enter the first number: \"))\n",
        "b = int(input(\"Enter the second number: \"))\n",
        "\n",
        "# Logical AND\n",
        "if a > 0 and b > 0:\n",
        "    print(\"Both numbers are positive (AND condition is True).\")\n",
        "else:\n",
        "    print(\"At least one number is not positive (AND condition is False).\")\n",
        "\n",
        "# Logical OR\n",
        "if a > 0 or b > 0:\n",
        "    print(\"At least one number is positive (OR condition is True).\")\n",
        "else:\n",
        "    print(\"Neither number is positive (OR condition is False).\")\n",
        "\n",
        "# Logical NOT\n",
        "print(\"Using NOT operator:\")\n",
        "print(\"NOT(a > 0):\", not (a > 0))\n",
        "print(\"NOT(b > 0):\", not (b > 0))"
      ],
      "metadata": {
        "colab": {
          "base_uri": "https://localhost:8080/"
        },
        "id": "Ku-9f6nbCAyA",
        "outputId": "7280db07-4c4f-4768-f3c9-bbdad20aec07"
      },
      "execution_count": 10,
      "outputs": [
        {
          "output_type": "stream",
          "name": "stdout",
          "text": [
            "Enter the first number: 12\n",
            "Enter the second number: 5\n",
            "Both numbers are positive (AND condition is True).\n",
            "At least one number is positive (OR condition is True).\n",
            "Using NOT operator:\n",
            "NOT(a > 0): False\n",
            "NOT(b > 0): False\n"
          ]
        }
      ]
    },
    {
      "cell_type": "code",
      "source": [
        "#9. Write a Python program to convert user input from string to integer, float, and boolean types.\n",
        "\n",
        "# Get user input\n",
        "user_input = input(\"Enter a value: \")\n",
        "\n",
        "# Convert the input to integer\n",
        "try:\n",
        "    int_value = int(user_input)\n",
        "    print(f\"Converted to integer: {int_value}\")\n",
        "except ValueError:\n",
        "    print(\"Cannot convert to integer. Please enter a valid integer.\")\n",
        "\n",
        "# Convert the input to float\n",
        "try:\n",
        "    float_value = float(user_input)\n",
        "    print(f\"Converted to float: {float_value}\")\n",
        "except ValueError:\n",
        "    print(\"Cannot convert to float. Please enter a valid float.\")\n",
        "\n",
        "# Convert the input to boolean\n",
        "# In Python, '0', 'False', and empty string are considered False\n",
        "# Everything else is considered True\n",
        "if user_input.lower() in ['false', '0', '']:\n",
        "    bool_value = False\n",
        "else:\n",
        "    bool_value = True\n",
        "\n",
        "print(f\"Converted to boolean: {bool_value}\")"
      ],
      "metadata": {
        "colab": {
          "base_uri": "https://localhost:8080/"
        },
        "id": "kVZ0ggZPCA4K",
        "outputId": "03c425df-c58d-4131-87de-2567aa3ef7cc"
      },
      "execution_count": 11,
      "outputs": [
        {
          "output_type": "stream",
          "name": "stdout",
          "text": [
            "Enter a value: 12\n",
            "Converted to integer: 12\n",
            "Converted to float: 12.0\n",
            "Converted to boolean: True\n"
          ]
        }
      ]
    },
    {
      "cell_type": "code",
      "source": [
        "#10. Write code to demonstrate type casting with list elements.\n",
        "\n",
        "# List with elements as strings\n",
        "str_list = [\"1\", \"2\", \"3\", \"4.5\", \"6.7\", \"True\"]\n",
        "\n",
        "# Convert elements from string to integer (where possible)\n",
        "int_list = []\n",
        "for item in str_list:\n",
        "    try:\n",
        "        int_list.append(int(item))  # Attempt to convert to integer\n",
        "    except ValueError:\n",
        "        int_list.append(None)  # Append None if conversion fails\n",
        "print(\"List with integers:\", int_list)\n",
        "\n",
        "# Convert elements from string to float (where possible)\n",
        "float_list = []\n",
        "for item in str_list:\n",
        "    try:\n",
        "        float_list.append(float(item))  # Attempt to convert to float\n",
        "    except ValueError:\n",
        "        float_list.append(None)  # Append None if conversion fails\n",
        "print(\"List with floats:\", float_list)\n",
        "\n",
        "# Convert elements from string to boolean (empty string and 'False' are False, others are True)\n",
        "bool_list = []\n",
        "for item in str_list:\n",
        "    if item.lower() in ['false', '0', '']:\n",
        "        bool_list.append(False)\n",
        "    else:\n",
        "        bool_list.append(True)\n",
        "print(\"List with booleans:\", bool_list)"
      ],
      "metadata": {
        "colab": {
          "base_uri": "https://localhost:8080/"
        },
        "id": "hLpE02BrCA-K",
        "outputId": "3e4bd96b-f5fd-4f6a-bff3-a82c4667a87e"
      },
      "execution_count": 12,
      "outputs": [
        {
          "output_type": "stream",
          "name": "stdout",
          "text": [
            "List with integers: [1, 2, 3, None, None, None]\n",
            "List with floats: [1.0, 2.0, 3.0, 4.5, 6.7, None]\n",
            "List with booleans: [True, True, True, True, True, True]\n"
          ]
        }
      ]
    },
    {
      "cell_type": "code",
      "source": [
        "#11. Write a program that checks if a number is positive, negative, or zero\n",
        "\n",
        "# Function to check if the number is positive, negative, or zero\n",
        "def check_number(number):\n",
        "    if number > 0:\n",
        "        print(f\"{number} is a positive number.\")\n",
        "    elif number < 0:\n",
        "        print(f\"{number} is a negative number.\")\n",
        "    else:\n",
        "        print(f\"{number} is zero.\")\n",
        "\n",
        "# Get user input\n",
        "try:\n",
        "    num = float(input(\"Enter a number: \"))  # Convert the input to a float\n",
        "    check_number(num)\n",
        "except ValueError:\n",
        "    print(\"Invalid input! Please enter a valid number.\")"
      ],
      "metadata": {
        "colab": {
          "base_uri": "https://localhost:8080/"
        },
        "id": "kBXCXF-RCBEr",
        "outputId": "d9af5bc1-ba71-4504-dace-9831206367f9"
      },
      "execution_count": 13,
      "outputs": [
        {
          "output_type": "stream",
          "name": "stdout",
          "text": [
            "Enter a number: 12\n",
            "12.0 is a positive number.\n"
          ]
        }
      ]
    },
    {
      "cell_type": "code",
      "source": [
        "#12. Write a for loop to print numbers from 1 to 10.\n",
        "\n",
        "# Using a for loop to print numbers from 1 to 10\n",
        "for i in range(1, 11):\n",
        "    print(i)"
      ],
      "metadata": {
        "colab": {
          "base_uri": "https://localhost:8080/"
        },
        "id": "qj9Z5qCvCBKQ",
        "outputId": "cdc10e38-6412-41ff-b3a7-00b36e6d164b"
      },
      "execution_count": 14,
      "outputs": [
        {
          "output_type": "stream",
          "name": "stdout",
          "text": [
            "1\n",
            "2\n",
            "3\n",
            "4\n",
            "5\n",
            "6\n",
            "7\n",
            "8\n",
            "9\n",
            "10\n"
          ]
        }
      ]
    },
    {
      "cell_type": "code",
      "source": [
        "#13. Write a Python program to find the sum of all even numbers between 1 and 50.\n",
        "\n",
        "# Initialize the sum variable\n",
        "sum_of_evens = 0\n",
        "\n",
        "# Loop through numbers from 1 to 50\n",
        "for num in range(1, 51):\n",
        "    # Check if the number is even\n",
        "    if num % 2 == 0:\n",
        "        sum_of_evens += num  # Add the even number to the sum\n",
        "\n",
        "# Print the sum of all even numbers between 1 and 50\n",
        "print(\"Sum of all even numbers between 1 and 50:\", sum_of_evens)"
      ],
      "metadata": {
        "colab": {
          "base_uri": "https://localhost:8080/"
        },
        "id": "FK9J_q3oCBPv",
        "outputId": "b93ccde1-36e5-46a4-8b5e-895d5be7137e"
      },
      "execution_count": 15,
      "outputs": [
        {
          "output_type": "stream",
          "name": "stdout",
          "text": [
            "Sum of all even numbers between 1 and 50: 650\n"
          ]
        }
      ]
    },
    {
      "cell_type": "code",
      "source": [
        "#14. Write a program to reverse a string using a while loop.\n",
        "\n",
        "# Function to reverse a string using a while loop\n",
        "def reverse_string(input_string):\n",
        "    reversed_string = \"\"\n",
        "    index = len(input_string) - 1  # Start from the last index\n",
        "\n",
        "    # Loop through the string in reverse\n",
        "    while index >= 0:\n",
        "        reversed_string += input_string[index]\n",
        "        index -= 1  # Move to the previous character\n",
        "\n",
        "    return reversed_string\n",
        "\n",
        "# Get user input\n",
        "user_input = input(\"Enter a string: \")\n",
        "\n",
        "# Call the function and print the reversed string\n",
        "print(\"Reversed string:\", reverse_string(user_input))"
      ],
      "metadata": {
        "colab": {
          "base_uri": "https://localhost:8080/"
        },
        "id": "xx-es19XCBVC",
        "outputId": "ea565673-1fb3-4603-9fb8-938b4f650e42"
      },
      "execution_count": 16,
      "outputs": [
        {
          "output_type": "stream",
          "name": "stdout",
          "text": [
            "Enter a string: 12\n",
            "Reversed string: 21\n"
          ]
        }
      ]
    },
    {
      "cell_type": "code",
      "source": [
        "#15. Write a Python program to calculate the factorial of a number provided by the user using a while loop.\n",
        "\n",
        "# Function to calculate the factorial of a number using a while loop\n",
        "def factorial(number):\n",
        "    result = 1  # Start with the base case of factorial (0! or 1! = 1)\n",
        "    while number > 0:\n",
        "        result *= number  # Multiply result by the current number\n",
        "        number -= 1  # Decrease the number by 1 for the next iteration\n",
        "    return result\n",
        "\n",
        "# Get user input\n",
        "try:\n",
        "    num = int(input(\"Enter a number to calculate its factorial: \"))\n",
        "\n",
        "    # Check if the number is negative\n",
        "    if num < 0:\n",
        "        print(\"Factorial is not defined for negative numbers.\")\n",
        "    else:\n",
        "        # Call the factorial function and display the result\n",
        "        print(f\"The factorial of {num} is {factorial(num)}\")\n",
        "\n",
        "except ValueError:\n",
        "    print(\"Invalid input! Please enter a valid integer.\")"
      ],
      "metadata": {
        "colab": {
          "base_uri": "https://localhost:8080/"
        },
        "id": "2TXWwXQ3ES4f",
        "outputId": "d86f610e-a9f7-40a0-f82c-2c59b930c562"
      },
      "execution_count": 17,
      "outputs": [
        {
          "output_type": "stream",
          "name": "stdout",
          "text": [
            "Enter a number to calculate its factorial: 1\n",
            "The factorial of 1 is 1\n"
          ]
        }
      ]
    }
  ]
}